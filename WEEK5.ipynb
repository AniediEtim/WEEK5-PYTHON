{
 "cells": [
  {
   "cell_type": "code",
   "execution_count": 1,
   "id": "c3f875fa-68f2-453e-829d-052224a65e06",
   "metadata": {},
   "outputs": [
    {
     "name": "stdout",
     "output_type": "stream",
     "text": [
      "Fear not! Starlight is here to save the day!\n",
      "My weakness is darkness!\n",
      "I am Shadow Master from Lunar Abyss, and my superpower is manipulating shadows!\n",
      "As Shadow Master, I plan to plunge the world into darkness!\n"
     ]
    }
   ],
   "source": [
    "# Base class\n",
    "class Superhero:\n",
    "    def __init__(self, name, power, hometown, weakness):\n",
    "        self.name = name\n",
    "        self.power = power\n",
    "        self.hometown = hometown\n",
    "        self.weakness = weakness\n",
    "    \n",
    "    def introduce(self):\n",
    "        return f\"I am {self.name} from {self.hometown}, and my superpower is {self.power}!\"\n",
    "\n",
    "    def reveal_weakness(self):\n",
    "        return f\"My weakness is {self.weakness}!\"\n",
    "\n",
    "# Subclass to add specialization\n",
    "class Villain(Superhero):\n",
    "    def __init__(self, name, power, hometown, weakness, evil_plan):\n",
    "        super().__init__(name, power, hometown, weakness)\n",
    "        self.evil_plan = evil_plan\n",
    "    \n",
    "    def announce_plan(self):\n",
    "        return f\"As {self.name}, I plan to {self.evil_plan}!\"\n",
    "\n",
    "# Demonstrating polymorphism (different behavior of the same method)\n",
    "class Hero(Superhero):\n",
    "    def introduce(self):\n",
    "        return f\"Fear not! {self.name} is here to save the day!\"\n",
    "\n",
    "# Test the classes\n",
    "hero = Hero(\"Starlight\", \"controlling light\", \"Solar City\", \"darkness\")\n",
    "villain = Villain(\"Shadow Master\", \"manipulating shadows\", \"Lunar Abyss\", \"bright light\", \"plunge the world into darkness\")\n",
    "\n",
    "print(hero.introduce())\n",
    "print(hero.reveal_weakness())\n",
    "print(villain.introduce())\n",
    "print(villain.announce_plan())\n"
   ]
  },
  {
   "cell_type": "code",
   "execution_count": 2,
   "id": "7ea0458e-05d1-4445-a216-7ab211a7ee97",
   "metadata": {},
   "outputs": [
    {
     "name": "stdout",
     "output_type": "stream",
     "text": [
      "Driving 🚗\n",
      "Flying ✈️\n",
      "Sailing 🚤\n"
     ]
    }
   ],
   "source": [
    "class Vehicle:\n",
    "    def move(self):\n",
    "        raise NotImplementedError(\"Subclasses must implement this method!\")\n",
    "\n",
    "class Car(Vehicle):\n",
    "    def move(self):\n",
    "        return \"Driving 🚗\"\n",
    "\n",
    "class Plane(Vehicle):\n",
    "    def move(self):\n",
    "        return \"Flying ✈️\"\n",
    "\n",
    "class Boat(Vehicle):\n",
    "    def move(self):\n",
    "        return \"Sailing 🚤\"\n",
    "\n",
    "# Testing polymorphism\n",
    "vehicles = [Car(), Plane(), Boat()]\n",
    "\n",
    "for vehicle in vehicles:\n",
    "    print(vehicle.move())\n"
   ]
  },
  {
   "cell_type": "code",
   "execution_count": null,
   "id": "361bc0f2-f5f4-4979-bca5-ad430fa3f549",
   "metadata": {},
   "outputs": [],
   "source": []
  }
 ],
 "metadata": {
  "kernelspec": {
   "display_name": "Python 3 (ipykernel)",
   "language": "python",
   "name": "python3"
  },
  "language_info": {
   "codemirror_mode": {
    "name": "ipython",
    "version": 3
   },
   "file_extension": ".py",
   "mimetype": "text/x-python",
   "name": "python",
   "nbconvert_exporter": "python",
   "pygments_lexer": "ipython3",
   "version": "3.11.7"
  }
 },
 "nbformat": 4,
 "nbformat_minor": 5
}
